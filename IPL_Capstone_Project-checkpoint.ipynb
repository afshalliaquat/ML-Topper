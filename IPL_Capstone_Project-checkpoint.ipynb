{
  "cells": [
    {
      "cell_type": "markdown",
      "metadata": {
        "id": "view-in-github",
        "colab_type": "text"
      },
      "source": [
        "<a href=\"https://colab.research.google.com/github/afshalliaquat/ML-Topper/blob/main/IPL_Capstone_Project-checkpoint.ipynb\" target=\"_parent\"><img src=\"https://colab.research.google.com/assets/colab-badge.svg\" alt=\"Open In Colab\"/></a>"
      ]
    },
    {
      "cell_type": "markdown",
      "id": "20ddbce6-8ca0-4846-8903-f3c42a0f07af",
      "metadata": {
        "id": "20ddbce6-8ca0-4846-8903-f3c42a0f07af"
      },
      "source": [
        "### IPL 2022 Capstone Project"
      ]
    },
    {
      "cell_type": "markdown",
      "id": "894aafbc-4081-4584-9f05-8f1a9d6ca082",
      "metadata": {
        "id": "894aafbc-4081-4584-9f05-8f1a9d6ca082"
      },
      "source": [
        "**The Indian Premier League (IPL) is a professional T20 cricket league in India, featuring franchises representing cities. This project explores IPL 2022 match-level data to derive meaningful insights and understand match outcomes, player performances, and team dynamics.**"
      ]
    },
    {
      "cell_type": "markdown",
      "id": "912338f7-2478-4b1a-8421-b8305fbf8ecc",
      "metadata": {
        "id": "912338f7-2478-4b1a-8421-b8305fbf8ecc"
      },
      "source": [
        "**These are some of the important columns that we'll focus on for meaningful insights in this project.**\n",
        "\n",
        "**column names: Variable Type**\n",
        "* date : string  \n",
        "* venue : string  \n",
        "* stage : string  \n",
        "* team1 : string  \n",
        "* team2 : string  \n",
        "* toss_winner : string  \n",
        "* toss_decision : string  \n",
        "* first_ings_score : integer  \n",
        "* second_ings_score : integer  \n",
        "* match_winner : string  \n",
        "* won_by : string  \n",
        "* margin : integer  \n",
        "* player_of_the_match : string  \n",
        "* top_scorer : string  \n",
        "* highscore : integer  \n",
        "* best_bowling : string  \n",
        "* best_bowling_fgure : string  \n",
        "gure : string  \n"
      ]
    },
    {
      "cell_type": "markdown",
      "id": "460f0d67-bb6a-41b6-bba7-899b6d324bd7",
      "metadata": {
        "id": "460f0d67-bb6a-41b6-bba7-899b6d324bd7"
      },
      "source": [
        "### Loading the Libraries and Dataset"
      ]
    },
    {
      "cell_type": "code",
      "source": [
        "import numpy as np\n",
        "import pandas as pd\n",
        "import matplotlib.pyplot as plt\n",
        "import seaborn as sns\n",
        "import warnings\n",
        "warnings.filterwarnings('ignore')"
      ],
      "metadata": {
        "id": "PS-0NmZSKf9S"
      },
      "id": "PS-0NmZSKf9S",
      "execution_count": 5,
      "outputs": []
    },
    {
      "cell_type": "code",
      "execution_count": 10,
      "id": "9edc7567-369a-4405-a80a-846291278fe2",
      "metadata": {
        "id": "9edc7567-369a-4405-a80a-846291278fe2",
        "outputId": "cbc327f2-b5ac-490b-8801-33218c1278cc",
        "colab": {
          "base_uri": "https://localhost:8080/",
          "height": 71
        }
      },
      "outputs": [
        {
          "output_type": "display_data",
          "data": {
            "text/plain": [
              "<IPython.core.display.HTML object>"
            ],
            "text/html": [
              "\n",
              "     <input type=\"file\" id=\"files-7c797c49-71f7-4de0-ae1b-552de0d223be\" name=\"files[]\" multiple disabled\n",
              "        style=\"border:none\" />\n",
              "     <output id=\"result-7c797c49-71f7-4de0-ae1b-552de0d223be\">\n",
              "      Upload widget is only available when the cell has been executed in the\n",
              "      current browser session. Please rerun this cell to enable.\n",
              "      </output>\n",
              "      <script>// Copyright 2017 Google LLC\n",
              "//\n",
              "// Licensed under the Apache License, Version 2.0 (the \"License\");\n",
              "// you may not use this file except in compliance with the License.\n",
              "// You may obtain a copy of the License at\n",
              "//\n",
              "//      http://www.apache.org/licenses/LICENSE-2.0\n",
              "//\n",
              "// Unless required by applicable law or agreed to in writing, software\n",
              "// distributed under the License is distributed on an \"AS IS\" BASIS,\n",
              "// WITHOUT WARRANTIES OR CONDITIONS OF ANY KIND, either express or implied.\n",
              "// See the License for the specific language governing permissions and\n",
              "// limitations under the License.\n",
              "\n",
              "/**\n",
              " * @fileoverview Helpers for google.colab Python module.\n",
              " */\n",
              "(function(scope) {\n",
              "function span(text, styleAttributes = {}) {\n",
              "  const element = document.createElement('span');\n",
              "  element.textContent = text;\n",
              "  for (const key of Object.keys(styleAttributes)) {\n",
              "    element.style[key] = styleAttributes[key];\n",
              "  }\n",
              "  return element;\n",
              "}\n",
              "\n",
              "// Max number of bytes which will be uploaded at a time.\n",
              "const MAX_PAYLOAD_SIZE = 100 * 1024;\n",
              "\n",
              "function _uploadFiles(inputId, outputId) {\n",
              "  const steps = uploadFilesStep(inputId, outputId);\n",
              "  const outputElement = document.getElementById(outputId);\n",
              "  // Cache steps on the outputElement to make it available for the next call\n",
              "  // to uploadFilesContinue from Python.\n",
              "  outputElement.steps = steps;\n",
              "\n",
              "  return _uploadFilesContinue(outputId);\n",
              "}\n",
              "\n",
              "// This is roughly an async generator (not supported in the browser yet),\n",
              "// where there are multiple asynchronous steps and the Python side is going\n",
              "// to poll for completion of each step.\n",
              "// This uses a Promise to block the python side on completion of each step,\n",
              "// then passes the result of the previous step as the input to the next step.\n",
              "function _uploadFilesContinue(outputId) {\n",
              "  const outputElement = document.getElementById(outputId);\n",
              "  const steps = outputElement.steps;\n",
              "\n",
              "  const next = steps.next(outputElement.lastPromiseValue);\n",
              "  return Promise.resolve(next.value.promise).then((value) => {\n",
              "    // Cache the last promise value to make it available to the next\n",
              "    // step of the generator.\n",
              "    outputElement.lastPromiseValue = value;\n",
              "    return next.value.response;\n",
              "  });\n",
              "}\n",
              "\n",
              "/**\n",
              " * Generator function which is called between each async step of the upload\n",
              " * process.\n",
              " * @param {string} inputId Element ID of the input file picker element.\n",
              " * @param {string} outputId Element ID of the output display.\n",
              " * @return {!Iterable<!Object>} Iterable of next steps.\n",
              " */\n",
              "function* uploadFilesStep(inputId, outputId) {\n",
              "  const inputElement = document.getElementById(inputId);\n",
              "  inputElement.disabled = false;\n",
              "\n",
              "  const outputElement = document.getElementById(outputId);\n",
              "  outputElement.innerHTML = '';\n",
              "\n",
              "  const pickedPromise = new Promise((resolve) => {\n",
              "    inputElement.addEventListener('change', (e) => {\n",
              "      resolve(e.target.files);\n",
              "    });\n",
              "  });\n",
              "\n",
              "  const cancel = document.createElement('button');\n",
              "  inputElement.parentElement.appendChild(cancel);\n",
              "  cancel.textContent = 'Cancel upload';\n",
              "  const cancelPromise = new Promise((resolve) => {\n",
              "    cancel.onclick = () => {\n",
              "      resolve(null);\n",
              "    };\n",
              "  });\n",
              "\n",
              "  // Wait for the user to pick the files.\n",
              "  const files = yield {\n",
              "    promise: Promise.race([pickedPromise, cancelPromise]),\n",
              "    response: {\n",
              "      action: 'starting',\n",
              "    }\n",
              "  };\n",
              "\n",
              "  cancel.remove();\n",
              "\n",
              "  // Disable the input element since further picks are not allowed.\n",
              "  inputElement.disabled = true;\n",
              "\n",
              "  if (!files) {\n",
              "    return {\n",
              "      response: {\n",
              "        action: 'complete',\n",
              "      }\n",
              "    };\n",
              "  }\n",
              "\n",
              "  for (const file of files) {\n",
              "    const li = document.createElement('li');\n",
              "    li.append(span(file.name, {fontWeight: 'bold'}));\n",
              "    li.append(span(\n",
              "        `(${file.type || 'n/a'}) - ${file.size} bytes, ` +\n",
              "        `last modified: ${\n",
              "            file.lastModifiedDate ? file.lastModifiedDate.toLocaleDateString() :\n",
              "                                    'n/a'} - `));\n",
              "    const percent = span('0% done');\n",
              "    li.appendChild(percent);\n",
              "\n",
              "    outputElement.appendChild(li);\n",
              "\n",
              "    const fileDataPromise = new Promise((resolve) => {\n",
              "      const reader = new FileReader();\n",
              "      reader.onload = (e) => {\n",
              "        resolve(e.target.result);\n",
              "      };\n",
              "      reader.readAsArrayBuffer(file);\n",
              "    });\n",
              "    // Wait for the data to be ready.\n",
              "    let fileData = yield {\n",
              "      promise: fileDataPromise,\n",
              "      response: {\n",
              "        action: 'continue',\n",
              "      }\n",
              "    };\n",
              "\n",
              "    // Use a chunked sending to avoid message size limits. See b/62115660.\n",
              "    let position = 0;\n",
              "    do {\n",
              "      const length = Math.min(fileData.byteLength - position, MAX_PAYLOAD_SIZE);\n",
              "      const chunk = new Uint8Array(fileData, position, length);\n",
              "      position += length;\n",
              "\n",
              "      const base64 = btoa(String.fromCharCode.apply(null, chunk));\n",
              "      yield {\n",
              "        response: {\n",
              "          action: 'append',\n",
              "          file: file.name,\n",
              "          data: base64,\n",
              "        },\n",
              "      };\n",
              "\n",
              "      let percentDone = fileData.byteLength === 0 ?\n",
              "          100 :\n",
              "          Math.round((position / fileData.byteLength) * 100);\n",
              "      percent.textContent = `${percentDone}% done`;\n",
              "\n",
              "    } while (position < fileData.byteLength);\n",
              "  }\n",
              "\n",
              "  // All done.\n",
              "  yield {\n",
              "    response: {\n",
              "      action: 'complete',\n",
              "    }\n",
              "  };\n",
              "}\n",
              "\n",
              "scope.google = scope.google || {};\n",
              "scope.google.colab = scope.google.colab || {};\n",
              "scope.google.colab._files = {\n",
              "  _uploadFiles,\n",
              "  _uploadFilesContinue,\n",
              "};\n",
              "})(self);\n",
              "</script> "
            ]
          },
          "metadata": {}
        },
        {
          "output_type": "stream",
          "name": "stdout",
          "text": [
            "Saving IPL.csv to IPL.csv\n"
          ]
        }
      ],
      "source": [
        "from google.colab import files\n",
        "uploaded = files.upload()\n"
      ]
    },
    {
      "cell_type": "code",
      "source": [
        "df = pd.read_csv('IPL.csv')\n",
        "df.head()"
      ],
      "metadata": {
        "id": "pxfkMrhOLxr9",
        "outputId": "ae143dc8-ef74-4a52-e80b-4091238fad60",
        "colab": {
          "base_uri": "https://localhost:8080/",
          "height": 434
        }
      },
      "id": "pxfkMrhOLxr9",
      "execution_count": 19,
      "outputs": [
        {
          "output_type": "execute_result",
          "data": {
            "text/plain": [
              "   match_id           date                                         venue  \\\n",
              "0         1  March 26,2022                      Wankhede Stadium, Mumbai   \n",
              "1         2  March 27,2022                     Brabourne Stadium, Mumbai   \n",
              "2         3  March 27,2022            Dr DY Patil Sports Academy, Mumbai   \n",
              "3         4  March 28,2022                      Wankhede Stadium, Mumbai   \n",
              "4         5  March 29,2022  Maharashtra Cricket Association Stadium,Pune   \n",
              "\n",
              "       team1      team2  stage toss_winner toss_decision  first_ings_score  \\\n",
              "0    Chennai    Kolkata  Group     Kolkata         Field               131   \n",
              "1      Delhi     Mumbai  Group       Delhi         Field               177   \n",
              "2   Banglore     Punjab  Group      Punjab         Field               205   \n",
              "3    Gujarat    Lucknow  Group     Gujarat         Field               158   \n",
              "4  Hyderabad  Rajasthan  Group   Hyderabad         Field               210   \n",
              "\n",
              "   first_ings_wkts  second_ings_score  second_ings_wkts match_winner   won_by  \\\n",
              "0                5                133                 4      Kolkata  Wickets   \n",
              "1                5                179                 6        Delhi  Wickets   \n",
              "2                2                208                 5       Punjab  Wickets   \n",
              "3                6                161                 5      Gujarat  Wickets   \n",
              "4                6                149                 7    Rajasthan     Runs   \n",
              "\n",
              "   margin player_of_the_match      top_scorer  highscore      best_bowling  \\\n",
              "0       6         Umesh Yadav        MS Dhoni         50      Dwayne Bravo   \n",
              "1       4       Kuldeep Yadav    Ishan Kishan         81     Kuldeep Yadav   \n",
              "2       5         Odean Smith  Faf du Plessis         88    Mohammed Siraj   \n",
              "3       5      Mohammed Shami    Deepak Hooda         55    Mohammed Shami   \n",
              "4      61        Sanju Samson   Aiden Markram         57  Yuzvendra Chahal   \n",
              "\n",
              "  best_bowling_figure  \n",
              "0               3--20  \n",
              "1               3--18  \n",
              "2               2--59  \n",
              "3               3--25  \n",
              "4               3--22  "
            ],
            "text/html": [
              "\n",
              "  <div id=\"df-743c9afe-c615-4d3e-8fc0-6765fb8c02a8\" class=\"colab-df-container\">\n",
              "    <div>\n",
              "<style scoped>\n",
              "    .dataframe tbody tr th:only-of-type {\n",
              "        vertical-align: middle;\n",
              "    }\n",
              "\n",
              "    .dataframe tbody tr th {\n",
              "        vertical-align: top;\n",
              "    }\n",
              "\n",
              "    .dataframe thead th {\n",
              "        text-align: right;\n",
              "    }\n",
              "</style>\n",
              "<table border=\"1\" class=\"dataframe\">\n",
              "  <thead>\n",
              "    <tr style=\"text-align: right;\">\n",
              "      <th></th>\n",
              "      <th>match_id</th>\n",
              "      <th>date</th>\n",
              "      <th>venue</th>\n",
              "      <th>team1</th>\n",
              "      <th>team2</th>\n",
              "      <th>stage</th>\n",
              "      <th>toss_winner</th>\n",
              "      <th>toss_decision</th>\n",
              "      <th>first_ings_score</th>\n",
              "      <th>first_ings_wkts</th>\n",
              "      <th>second_ings_score</th>\n",
              "      <th>second_ings_wkts</th>\n",
              "      <th>match_winner</th>\n",
              "      <th>won_by</th>\n",
              "      <th>margin</th>\n",
              "      <th>player_of_the_match</th>\n",
              "      <th>top_scorer</th>\n",
              "      <th>highscore</th>\n",
              "      <th>best_bowling</th>\n",
              "      <th>best_bowling_figure</th>\n",
              "    </tr>\n",
              "  </thead>\n",
              "  <tbody>\n",
              "    <tr>\n",
              "      <th>0</th>\n",
              "      <td>1</td>\n",
              "      <td>March 26,2022</td>\n",
              "      <td>Wankhede Stadium, Mumbai</td>\n",
              "      <td>Chennai</td>\n",
              "      <td>Kolkata</td>\n",
              "      <td>Group</td>\n",
              "      <td>Kolkata</td>\n",
              "      <td>Field</td>\n",
              "      <td>131</td>\n",
              "      <td>5</td>\n",
              "      <td>133</td>\n",
              "      <td>4</td>\n",
              "      <td>Kolkata</td>\n",
              "      <td>Wickets</td>\n",
              "      <td>6</td>\n",
              "      <td>Umesh Yadav</td>\n",
              "      <td>MS Dhoni</td>\n",
              "      <td>50</td>\n",
              "      <td>Dwayne Bravo</td>\n",
              "      <td>3--20</td>\n",
              "    </tr>\n",
              "    <tr>\n",
              "      <th>1</th>\n",
              "      <td>2</td>\n",
              "      <td>March 27,2022</td>\n",
              "      <td>Brabourne Stadium, Mumbai</td>\n",
              "      <td>Delhi</td>\n",
              "      <td>Mumbai</td>\n",
              "      <td>Group</td>\n",
              "      <td>Delhi</td>\n",
              "      <td>Field</td>\n",
              "      <td>177</td>\n",
              "      <td>5</td>\n",
              "      <td>179</td>\n",
              "      <td>6</td>\n",
              "      <td>Delhi</td>\n",
              "      <td>Wickets</td>\n",
              "      <td>4</td>\n",
              "      <td>Kuldeep Yadav</td>\n",
              "      <td>Ishan Kishan</td>\n",
              "      <td>81</td>\n",
              "      <td>Kuldeep Yadav</td>\n",
              "      <td>3--18</td>\n",
              "    </tr>\n",
              "    <tr>\n",
              "      <th>2</th>\n",
              "      <td>3</td>\n",
              "      <td>March 27,2022</td>\n",
              "      <td>Dr DY Patil Sports Academy, Mumbai</td>\n",
              "      <td>Banglore</td>\n",
              "      <td>Punjab</td>\n",
              "      <td>Group</td>\n",
              "      <td>Punjab</td>\n",
              "      <td>Field</td>\n",
              "      <td>205</td>\n",
              "      <td>2</td>\n",
              "      <td>208</td>\n",
              "      <td>5</td>\n",
              "      <td>Punjab</td>\n",
              "      <td>Wickets</td>\n",
              "      <td>5</td>\n",
              "      <td>Odean Smith</td>\n",
              "      <td>Faf du Plessis</td>\n",
              "      <td>88</td>\n",
              "      <td>Mohammed Siraj</td>\n",
              "      <td>2--59</td>\n",
              "    </tr>\n",
              "    <tr>\n",
              "      <th>3</th>\n",
              "      <td>4</td>\n",
              "      <td>March 28,2022</td>\n",
              "      <td>Wankhede Stadium, Mumbai</td>\n",
              "      <td>Gujarat</td>\n",
              "      <td>Lucknow</td>\n",
              "      <td>Group</td>\n",
              "      <td>Gujarat</td>\n",
              "      <td>Field</td>\n",
              "      <td>158</td>\n",
              "      <td>6</td>\n",
              "      <td>161</td>\n",
              "      <td>5</td>\n",
              "      <td>Gujarat</td>\n",
              "      <td>Wickets</td>\n",
              "      <td>5</td>\n",
              "      <td>Mohammed Shami</td>\n",
              "      <td>Deepak Hooda</td>\n",
              "      <td>55</td>\n",
              "      <td>Mohammed Shami</td>\n",
              "      <td>3--25</td>\n",
              "    </tr>\n",
              "    <tr>\n",
              "      <th>4</th>\n",
              "      <td>5</td>\n",
              "      <td>March 29,2022</td>\n",
              "      <td>Maharashtra Cricket Association Stadium,Pune</td>\n",
              "      <td>Hyderabad</td>\n",
              "      <td>Rajasthan</td>\n",
              "      <td>Group</td>\n",
              "      <td>Hyderabad</td>\n",
              "      <td>Field</td>\n",
              "      <td>210</td>\n",
              "      <td>6</td>\n",
              "      <td>149</td>\n",
              "      <td>7</td>\n",
              "      <td>Rajasthan</td>\n",
              "      <td>Runs</td>\n",
              "      <td>61</td>\n",
              "      <td>Sanju Samson</td>\n",
              "      <td>Aiden Markram</td>\n",
              "      <td>57</td>\n",
              "      <td>Yuzvendra Chahal</td>\n",
              "      <td>3--22</td>\n",
              "    </tr>\n",
              "  </tbody>\n",
              "</table>\n",
              "</div>\n",
              "    <div class=\"colab-df-buttons\">\n",
              "\n",
              "  <div class=\"colab-df-container\">\n",
              "    <button class=\"colab-df-convert\" onclick=\"convertToInteractive('df-743c9afe-c615-4d3e-8fc0-6765fb8c02a8')\"\n",
              "            title=\"Convert this dataframe to an interactive table.\"\n",
              "            style=\"display:none;\">\n",
              "\n",
              "  <svg xmlns=\"http://www.w3.org/2000/svg\" height=\"24px\" viewBox=\"0 -960 960 960\">\n",
              "    <path d=\"M120-120v-720h720v720H120Zm60-500h600v-160H180v160Zm220 220h160v-160H400v160Zm0 220h160v-160H400v160ZM180-400h160v-160H180v160Zm440 0h160v-160H620v160ZM180-180h160v-160H180v160Zm440 0h160v-160H620v160Z\"/>\n",
              "  </svg>\n",
              "    </button>\n",
              "\n",
              "  <style>\n",
              "    .colab-df-container {\n",
              "      display:flex;\n",
              "      gap: 12px;\n",
              "    }\n",
              "\n",
              "    .colab-df-convert {\n",
              "      background-color: #E8F0FE;\n",
              "      border: none;\n",
              "      border-radius: 50%;\n",
              "      cursor: pointer;\n",
              "      display: none;\n",
              "      fill: #1967D2;\n",
              "      height: 32px;\n",
              "      padding: 0 0 0 0;\n",
              "      width: 32px;\n",
              "    }\n",
              "\n",
              "    .colab-df-convert:hover {\n",
              "      background-color: #E2EBFA;\n",
              "      box-shadow: 0px 1px 2px rgba(60, 64, 67, 0.3), 0px 1px 3px 1px rgba(60, 64, 67, 0.15);\n",
              "      fill: #174EA6;\n",
              "    }\n",
              "\n",
              "    .colab-df-buttons div {\n",
              "      margin-bottom: 4px;\n",
              "    }\n",
              "\n",
              "    [theme=dark] .colab-df-convert {\n",
              "      background-color: #3B4455;\n",
              "      fill: #D2E3FC;\n",
              "    }\n",
              "\n",
              "    [theme=dark] .colab-df-convert:hover {\n",
              "      background-color: #434B5C;\n",
              "      box-shadow: 0px 1px 3px 1px rgba(0, 0, 0, 0.15);\n",
              "      filter: drop-shadow(0px 1px 2px rgba(0, 0, 0, 0.3));\n",
              "      fill: #FFFFFF;\n",
              "    }\n",
              "  </style>\n",
              "\n",
              "    <script>\n",
              "      const buttonEl =\n",
              "        document.querySelector('#df-743c9afe-c615-4d3e-8fc0-6765fb8c02a8 button.colab-df-convert');\n",
              "      buttonEl.style.display =\n",
              "        google.colab.kernel.accessAllowed ? 'block' : 'none';\n",
              "\n",
              "      async function convertToInteractive(key) {\n",
              "        const element = document.querySelector('#df-743c9afe-c615-4d3e-8fc0-6765fb8c02a8');\n",
              "        const dataTable =\n",
              "          await google.colab.kernel.invokeFunction('convertToInteractive',\n",
              "                                                    [key], {});\n",
              "        if (!dataTable) return;\n",
              "\n",
              "        const docLinkHtml = 'Like what you see? Visit the ' +\n",
              "          '<a target=\"_blank\" href=https://colab.research.google.com/notebooks/data_table.ipynb>data table notebook</a>'\n",
              "          + ' to learn more about interactive tables.';\n",
              "        element.innerHTML = '';\n",
              "        dataTable['output_type'] = 'display_data';\n",
              "        await google.colab.output.renderOutput(dataTable, element);\n",
              "        const docLink = document.createElement('div');\n",
              "        docLink.innerHTML = docLinkHtml;\n",
              "        element.appendChild(docLink);\n",
              "      }\n",
              "    </script>\n",
              "  </div>\n",
              "\n",
              "\n",
              "    <div id=\"df-4347c85d-f094-4429-aeb5-dce447c26207\">\n",
              "      <button class=\"colab-df-quickchart\" onclick=\"quickchart('df-4347c85d-f094-4429-aeb5-dce447c26207')\"\n",
              "                title=\"Suggest charts\"\n",
              "                style=\"display:none;\">\n",
              "\n",
              "<svg xmlns=\"http://www.w3.org/2000/svg\" height=\"24px\"viewBox=\"0 0 24 24\"\n",
              "     width=\"24px\">\n",
              "    <g>\n",
              "        <path d=\"M19 3H5c-1.1 0-2 .9-2 2v14c0 1.1.9 2 2 2h14c1.1 0 2-.9 2-2V5c0-1.1-.9-2-2-2zM9 17H7v-7h2v7zm4 0h-2V7h2v10zm4 0h-2v-4h2v4z\"/>\n",
              "    </g>\n",
              "</svg>\n",
              "      </button>\n",
              "\n",
              "<style>\n",
              "  .colab-df-quickchart {\n",
              "      --bg-color: #E8F0FE;\n",
              "      --fill-color: #1967D2;\n",
              "      --hover-bg-color: #E2EBFA;\n",
              "      --hover-fill-color: #174EA6;\n",
              "      --disabled-fill-color: #AAA;\n",
              "      --disabled-bg-color: #DDD;\n",
              "  }\n",
              "\n",
              "  [theme=dark] .colab-df-quickchart {\n",
              "      --bg-color: #3B4455;\n",
              "      --fill-color: #D2E3FC;\n",
              "      --hover-bg-color: #434B5C;\n",
              "      --hover-fill-color: #FFFFFF;\n",
              "      --disabled-bg-color: #3B4455;\n",
              "      --disabled-fill-color: #666;\n",
              "  }\n",
              "\n",
              "  .colab-df-quickchart {\n",
              "    background-color: var(--bg-color);\n",
              "    border: none;\n",
              "    border-radius: 50%;\n",
              "    cursor: pointer;\n",
              "    display: none;\n",
              "    fill: var(--fill-color);\n",
              "    height: 32px;\n",
              "    padding: 0;\n",
              "    width: 32px;\n",
              "  }\n",
              "\n",
              "  .colab-df-quickchart:hover {\n",
              "    background-color: var(--hover-bg-color);\n",
              "    box-shadow: 0 1px 2px rgba(60, 64, 67, 0.3), 0 1px 3px 1px rgba(60, 64, 67, 0.15);\n",
              "    fill: var(--button-hover-fill-color);\n",
              "  }\n",
              "\n",
              "  .colab-df-quickchart-complete:disabled,\n",
              "  .colab-df-quickchart-complete:disabled:hover {\n",
              "    background-color: var(--disabled-bg-color);\n",
              "    fill: var(--disabled-fill-color);\n",
              "    box-shadow: none;\n",
              "  }\n",
              "\n",
              "  .colab-df-spinner {\n",
              "    border: 2px solid var(--fill-color);\n",
              "    border-color: transparent;\n",
              "    border-bottom-color: var(--fill-color);\n",
              "    animation:\n",
              "      spin 1s steps(1) infinite;\n",
              "  }\n",
              "\n",
              "  @keyframes spin {\n",
              "    0% {\n",
              "      border-color: transparent;\n",
              "      border-bottom-color: var(--fill-color);\n",
              "      border-left-color: var(--fill-color);\n",
              "    }\n",
              "    20% {\n",
              "      border-color: transparent;\n",
              "      border-left-color: var(--fill-color);\n",
              "      border-top-color: var(--fill-color);\n",
              "    }\n",
              "    30% {\n",
              "      border-color: transparent;\n",
              "      border-left-color: var(--fill-color);\n",
              "      border-top-color: var(--fill-color);\n",
              "      border-right-color: var(--fill-color);\n",
              "    }\n",
              "    40% {\n",
              "      border-color: transparent;\n",
              "      border-right-color: var(--fill-color);\n",
              "      border-top-color: var(--fill-color);\n",
              "    }\n",
              "    60% {\n",
              "      border-color: transparent;\n",
              "      border-right-color: var(--fill-color);\n",
              "    }\n",
              "    80% {\n",
              "      border-color: transparent;\n",
              "      border-right-color: var(--fill-color);\n",
              "      border-bottom-color: var(--fill-color);\n",
              "    }\n",
              "    90% {\n",
              "      border-color: transparent;\n",
              "      border-bottom-color: var(--fill-color);\n",
              "    }\n",
              "  }\n",
              "</style>\n",
              "\n",
              "      <script>\n",
              "        async function quickchart(key) {\n",
              "          const quickchartButtonEl =\n",
              "            document.querySelector('#' + key + ' button');\n",
              "          quickchartButtonEl.disabled = true;  // To prevent multiple clicks.\n",
              "          quickchartButtonEl.classList.add('colab-df-spinner');\n",
              "          try {\n",
              "            const charts = await google.colab.kernel.invokeFunction(\n",
              "                'suggestCharts', [key], {});\n",
              "          } catch (error) {\n",
              "            console.error('Error during call to suggestCharts:', error);\n",
              "          }\n",
              "          quickchartButtonEl.classList.remove('colab-df-spinner');\n",
              "          quickchartButtonEl.classList.add('colab-df-quickchart-complete');\n",
              "        }\n",
              "        (() => {\n",
              "          let quickchartButtonEl =\n",
              "            document.querySelector('#df-4347c85d-f094-4429-aeb5-dce447c26207 button');\n",
              "          quickchartButtonEl.style.display =\n",
              "            google.colab.kernel.accessAllowed ? 'block' : 'none';\n",
              "        })();\n",
              "      </script>\n",
              "    </div>\n",
              "\n",
              "    </div>\n",
              "  </div>\n"
            ],
            "application/vnd.google.colaboratory.intrinsic+json": {
              "type": "dataframe",
              "variable_name": "df",
              "summary": "{\n  \"name\": \"df\",\n  \"rows\": 74,\n  \"fields\": [\n    {\n      \"column\": \"match_id\",\n      \"properties\": {\n        \"dtype\": \"number\",\n        \"std\": 21,\n        \"min\": 1,\n        \"max\": 74,\n        \"num_unique_values\": 74,\n        \"samples\": [\n          5,\n          64,\n          19\n        ],\n        \"semantic_type\": \"\",\n        \"description\": \"\"\n      }\n    },\n    {\n      \"column\": \"date\",\n      \"properties\": {\n        \"dtype\": \"string\",\n        \"num_unique_values\": 62,\n        \"samples\": [\n          \"May 15,2022\",\n          \"May 21,2022\",\n          \"March 26,2022\"\n        ],\n        \"semantic_type\": \"\",\n        \"description\": \"\"\n      }\n    },\n    {\n      \"column\": \"venue\",\n      \"properties\": {\n        \"dtype\": \"category\",\n        \"num_unique_values\": 6,\n        \"samples\": [\n          \"Wankhede Stadium, Mumbai\",\n          \"Brabourne Stadium, Mumbai\",\n          \"Narendra Modi Stadium, Ahmedabad\"\n        ],\n        \"semantic_type\": \"\",\n        \"description\": \"\"\n      }\n    },\n    {\n      \"column\": \"team1\",\n      \"properties\": {\n        \"dtype\": \"category\",\n        \"num_unique_values\": 9,\n        \"samples\": [\n          \"Lucknow\",\n          \"Delhi\",\n          \"Kolkata\"\n        ],\n        \"semantic_type\": \"\",\n        \"description\": \"\"\n      }\n    },\n    {\n      \"column\": \"team2\",\n      \"properties\": {\n        \"dtype\": \"category\",\n        \"num_unique_values\": 9,\n        \"samples\": [\n          \"Chennai\",\n          \"Mumbai\",\n          \"Gujarat\"\n        ],\n        \"semantic_type\": \"\",\n        \"description\": \"\"\n      }\n    },\n    {\n      \"column\": \"stage\",\n      \"properties\": {\n        \"dtype\": \"category\",\n        \"num_unique_values\": 3,\n        \"samples\": [\n          \"Group\",\n          \"Playoff\",\n          \"Final\"\n        ],\n        \"semantic_type\": \"\",\n        \"description\": \"\"\n      }\n    },\n    {\n      \"column\": \"toss_winner\",\n      \"properties\": {\n        \"dtype\": \"category\",\n        \"num_unique_values\": 10,\n        \"samples\": [\n          \"Chennai\",\n          \"Delhi\",\n          \"Banglore\"\n        ],\n        \"semantic_type\": \"\",\n        \"description\": \"\"\n      }\n    },\n    {\n      \"column\": \"toss_decision\",\n      \"properties\": {\n        \"dtype\": \"category\",\n        \"num_unique_values\": 2,\n        \"samples\": [\n          \"Bat\",\n          \"Field\"\n        ],\n        \"semantic_type\": \"\",\n        \"description\": \"\"\n      }\n    },\n    {\n      \"column\": \"first_ings_score\",\n      \"properties\": {\n        \"dtype\": \"number\",\n        \"std\": 29,\n        \"min\": 68,\n        \"max\": 222,\n        \"num_unique_values\": 55,\n        \"samples\": [\n          168,\n          128\n        ],\n        \"semantic_type\": \"\",\n        \"description\": \"\"\n      }\n    },\n    {\n      \"column\": \"first_ings_wkts\",\n      \"properties\": {\n        \"dtype\": \"number\",\n        \"std\": 2,\n        \"min\": 0,\n        \"max\": 10,\n        \"num_unique_values\": 10,\n        \"samples\": [\n          9,\n          2\n        ],\n        \"semantic_type\": \"\",\n        \"description\": \"\"\n      }\n    },\n    {\n      \"column\": \"second_ings_score\",\n      \"properties\": {\n        \"dtype\": \"number\",\n        \"std\": 29,\n        \"min\": 72,\n        \"max\": 211,\n        \"num_unique_values\": 50,\n        \"samples\": [\n          155,\n          125\n        ],\n        \"semantic_type\": \"\",\n        \"description\": \"\"\n      }\n    },\n    {\n      \"column\": \"second_ings_wkts\",\n      \"properties\": {\n        \"dtype\": \"number\",\n        \"std\": 2,\n        \"min\": 1,\n        \"max\": 10,\n        \"num_unique_values\": 10,\n        \"samples\": [\n          3,\n          6\n        ],\n        \"semantic_type\": \"\",\n        \"description\": \"\"\n      }\n    },\n    {\n      \"column\": \"match_winner\",\n      \"properties\": {\n        \"dtype\": \"category\",\n        \"num_unique_values\": 10,\n        \"samples\": [\n          \"Chennai\",\n          \"Delhi\"\n        ],\n        \"semantic_type\": \"\",\n        \"description\": \"\"\n      }\n    },\n    {\n      \"column\": \"won_by\",\n      \"properties\": {\n        \"dtype\": \"category\",\n        \"num_unique_values\": 2,\n        \"samples\": [\n          \"Runs\",\n          \"Wickets\"\n        ],\n        \"semantic_type\": \"\",\n        \"description\": \"\"\n      }\n    },\n    {\n      \"column\": \"margin\",\n      \"properties\": {\n        \"dtype\": \"number\",\n        \"std\": 19,\n        \"min\": 2,\n        \"max\": 91,\n        \"num_unique_values\": 31,\n        \"samples\": [\n          62,\n          9\n        ],\n        \"semantic_type\": \"\",\n        \"description\": \"\"\n      }\n    },\n    {\n      \"column\": \"player_of_the_match\",\n      \"properties\": {\n        \"dtype\": \"string\",\n        \"num_unique_values\": 56,\n        \"samples\": [\n          \"Umesh Yadav\",\n          \"Wanindu Hasaranga\"\n        ],\n        \"semantic_type\": \"\",\n        \"description\": \"\"\n      }\n    },\n    {\n      \"column\": \"top_scorer\",\n      \"properties\": {\n        \"dtype\": \"string\",\n        \"num_unique_values\": 37,\n        \"samples\": [\n          \"Kane Williamson\",\n          \"Abhishek Sharma\"\n        ],\n        \"semantic_type\": \"\",\n        \"description\": \"\"\n      }\n    },\n    {\n      \"column\": \"highscore\",\n      \"properties\": {\n        \"dtype\": \"number\",\n        \"std\": 20,\n        \"min\": 28,\n        \"max\": 140,\n        \"num_unique_values\": 46,\n        \"samples\": [\n          76,\n          67\n        ],\n        \"semantic_type\": \"\",\n        \"description\": \"\"\n      }\n    },\n    {\n      \"column\": \"best_bowling\",\n      \"properties\": {\n        \"dtype\": \"string\",\n        \"num_unique_values\": 42,\n        \"samples\": [\n          \"Krunal Pandya\",\n          \"Rashid Khan\"\n        ],\n        \"semantic_type\": \"\",\n        \"description\": \"\"\n      }\n    },\n    {\n      \"column\": \"best_bowling_figure\",\n      \"properties\": {\n        \"dtype\": \"string\",\n        \"num_unique_values\": 51,\n        \"samples\": [\n          \"4--34\",\n          \"3--13\"\n        ],\n        \"semantic_type\": \"\",\n        \"description\": \"\"\n      }\n    }\n  ]\n}"
            }
          },
          "metadata": {},
          "execution_count": 19
        }
      ]
    },
    {
      "cell_type": "markdown",
      "id": "761027b0-490c-47d7-bae8-3b73e95d36e9",
      "metadata": {
        "id": "761027b0-490c-47d7-bae8-3b73e95d36e9"
      },
      "source": [
        "### Basic Information"
      ]
    },
    {
      "cell_type": "code",
      "execution_count": 15,
      "id": "b6d0c558-47b3-4d36-bb38-311235c2c784",
      "metadata": {
        "id": "b6d0c558-47b3-4d36-bb38-311235c2c784",
        "outputId": "d449a819-ec08-45d0-c25c-f18a9bc38bc9",
        "colab": {
          "base_uri": "https://localhost:8080/"
        }
      },
      "outputs": [
        {
          "output_type": "stream",
          "name": "stdout",
          "text": [
            "<class 'pandas.core.frame.DataFrame'>\n",
            "RangeIndex: 74 entries, 0 to 73\n",
            "Data columns (total 20 columns):\n",
            " #   Column               Non-Null Count  Dtype \n",
            "---  ------               --------------  ----- \n",
            " 0   match_id             74 non-null     int64 \n",
            " 1   date                 74 non-null     object\n",
            " 2   venue                74 non-null     object\n",
            " 3   team1                74 non-null     object\n",
            " 4   team2                74 non-null     object\n",
            " 5   stage                74 non-null     object\n",
            " 6   toss_winner          74 non-null     object\n",
            " 7   toss_decision        74 non-null     object\n",
            " 8   first_ings_score     74 non-null     int64 \n",
            " 9   first_ings_wkts      74 non-null     int64 \n",
            " 10  second_ings_score    74 non-null     int64 \n",
            " 11  second_ings_wkts     74 non-null     int64 \n",
            " 12  match_winner         74 non-null     object\n",
            " 13  won_by               74 non-null     object\n",
            " 14  margin               74 non-null     int64 \n",
            " 15  player_of_the_match  74 non-null     object\n",
            " 16  top_scorer           74 non-null     object\n",
            " 17  highscore            74 non-null     int64 \n",
            " 18  best_bowling         74 non-null     object\n",
            " 19  best_bowling_figure  74 non-null     object\n",
            "dtypes: int64(7), object(13)\n",
            "memory usage: 11.7+ KB\n"
          ]
        }
      ],
      "source": [
        "df.info()"
      ]
    },
    {
      "cell_type": "markdown",
      "id": "d717c591-238a-43eb-88f2-cf2ec966edb0",
      "metadata": {
        "id": "d717c591-238a-43eb-88f2-cf2ec966edb0"
      },
      "source": [
        "Check the size of rows and columns of the dataset"
      ]
    },
    {
      "cell_type": "code",
      "execution_count": 16,
      "id": "0eb3785b-8ce8-4205-b381-1d868f0a8983",
      "metadata": {
        "id": "0eb3785b-8ce8-4205-b381-1d868f0a8983",
        "outputId": "9f9b5958-fb32-436a-fa4f-c6c82c4162aa",
        "colab": {
          "base_uri": "https://localhost:8080/"
        }
      },
      "outputs": [
        {
          "output_type": "stream",
          "name": "stdout",
          "text": [
            "your rows are 74, and columns are 20\n"
          ]
        }
      ],
      "source": [
        "print(f\"your rows are {df.shape[0]}, and columns are {df.shape[1]}\")"
      ]
    },
    {
      "cell_type": "markdown",
      "id": "71728207-924f-4024-a0ad-3e61591d5d0a",
      "metadata": {
        "id": "71728207-924f-4024-a0ad-3e61591d5d0a"
      },
      "source": [
        "Now let's see how many columns have null values in total."
      ]
    },
    {
      "cell_type": "code",
      "execution_count": 17,
      "id": "b64f2f03-5c60-4654-b0e1-9ddf8542c218",
      "metadata": {
        "id": "b64f2f03-5c60-4654-b0e1-9ddf8542c218",
        "outputId": "a24e54ce-d0ac-4230-ee73-c3c03efec906",
        "colab": {
          "base_uri": "https://localhost:8080/",
          "height": 711
        }
      },
      "outputs": [
        {
          "output_type": "execute_result",
          "data": {
            "text/plain": [
              "match_id               0\n",
              "date                   0\n",
              "venue                  0\n",
              "team1                  0\n",
              "team2                  0\n",
              "stage                  0\n",
              "toss_winner            0\n",
              "toss_decision          0\n",
              "first_ings_score       0\n",
              "first_ings_wkts        0\n",
              "second_ings_score      0\n",
              "second_ings_wkts       0\n",
              "match_winner           0\n",
              "won_by                 0\n",
              "margin                 0\n",
              "player_of_the_match    0\n",
              "top_scorer             0\n",
              "highscore              0\n",
              "best_bowling           0\n",
              "best_bowling_figure    0\n",
              "dtype: int64"
            ],
            "text/html": [
              "<div>\n",
              "<style scoped>\n",
              "    .dataframe tbody tr th:only-of-type {\n",
              "        vertical-align: middle;\n",
              "    }\n",
              "\n",
              "    .dataframe tbody tr th {\n",
              "        vertical-align: top;\n",
              "    }\n",
              "\n",
              "    .dataframe thead th {\n",
              "        text-align: right;\n",
              "    }\n",
              "</style>\n",
              "<table border=\"1\" class=\"dataframe\">\n",
              "  <thead>\n",
              "    <tr style=\"text-align: right;\">\n",
              "      <th></th>\n",
              "      <th>0</th>\n",
              "    </tr>\n",
              "  </thead>\n",
              "  <tbody>\n",
              "    <tr>\n",
              "      <th>match_id</th>\n",
              "      <td>0</td>\n",
              "    </tr>\n",
              "    <tr>\n",
              "      <th>date</th>\n",
              "      <td>0</td>\n",
              "    </tr>\n",
              "    <tr>\n",
              "      <th>venue</th>\n",
              "      <td>0</td>\n",
              "    </tr>\n",
              "    <tr>\n",
              "      <th>team1</th>\n",
              "      <td>0</td>\n",
              "    </tr>\n",
              "    <tr>\n",
              "      <th>team2</th>\n",
              "      <td>0</td>\n",
              "    </tr>\n",
              "    <tr>\n",
              "      <th>stage</th>\n",
              "      <td>0</td>\n",
              "    </tr>\n",
              "    <tr>\n",
              "      <th>toss_winner</th>\n",
              "      <td>0</td>\n",
              "    </tr>\n",
              "    <tr>\n",
              "      <th>toss_decision</th>\n",
              "      <td>0</td>\n",
              "    </tr>\n",
              "    <tr>\n",
              "      <th>first_ings_score</th>\n",
              "      <td>0</td>\n",
              "    </tr>\n",
              "    <tr>\n",
              "      <th>first_ings_wkts</th>\n",
              "      <td>0</td>\n",
              "    </tr>\n",
              "    <tr>\n",
              "      <th>second_ings_score</th>\n",
              "      <td>0</td>\n",
              "    </tr>\n",
              "    <tr>\n",
              "      <th>second_ings_wkts</th>\n",
              "      <td>0</td>\n",
              "    </tr>\n",
              "    <tr>\n",
              "      <th>match_winner</th>\n",
              "      <td>0</td>\n",
              "    </tr>\n",
              "    <tr>\n",
              "      <th>won_by</th>\n",
              "      <td>0</td>\n",
              "    </tr>\n",
              "    <tr>\n",
              "      <th>margin</th>\n",
              "      <td>0</td>\n",
              "    </tr>\n",
              "    <tr>\n",
              "      <th>player_of_the_match</th>\n",
              "      <td>0</td>\n",
              "    </tr>\n",
              "    <tr>\n",
              "      <th>top_scorer</th>\n",
              "      <td>0</td>\n",
              "    </tr>\n",
              "    <tr>\n",
              "      <th>highscore</th>\n",
              "      <td>0</td>\n",
              "    </tr>\n",
              "    <tr>\n",
              "      <th>best_bowling</th>\n",
              "      <td>0</td>\n",
              "    </tr>\n",
              "    <tr>\n",
              "      <th>best_bowling_figure</th>\n",
              "      <td>0</td>\n",
              "    </tr>\n",
              "  </tbody>\n",
              "</table>\n",
              "</div><br><label><b>dtype:</b> int64</label>"
            ]
          },
          "metadata": {},
          "execution_count": 17
        }
      ],
      "source": [
        "df.isnull().sum()"
      ]
    },
    {
      "cell_type": "markdown",
      "id": "552e17c7-7dc8-4caf-a583-0c06e7415fa1",
      "metadata": {
        "id": "552e17c7-7dc8-4caf-a583-0c06e7415fa1"
      },
      "source": [
        "**Now, Here comes some Basic Questions**"
      ]
    },
    {
      "cell_type": "markdown",
      "id": "80396e96-8356-4dba-9f1b-7907d333d750",
      "metadata": {
        "id": "80396e96-8356-4dba-9f1b-7907d333d750"
      },
      "source": [
        "1. Which team won the most matches?"
      ]
    },
    {
      "cell_type": "code",
      "execution_count": 29,
      "id": "3d624d13-24e3-4db2-9122-39a0111de269",
      "metadata": {
        "id": "3d624d13-24e3-4db2-9122-39a0111de269",
        "outputId": "bdbb0a4f-1263-4912-a945-d4c6ee28da96",
        "colab": {
          "base_uri": "https://localhost:8080/",
          "height": 469
        }
      },
      "outputs": [
        {
          "output_type": "execute_result",
          "data": {
            "text/plain": [
              "Text(0.5, 1.0, 'Teams won')"
            ]
          },
          "metadata": {},
          "execution_count": 29
        },
        {
          "output_type": "display_data",
          "data": {
            "text/plain": [
              "<Figure size 640x480 with 1 Axes>"
            ],
            "image/png": "[encoded data removed]"
          },
          "metadata": {}
        }
      ],
      "source": [
        "matchwin = df['match_winner'].value_counts()\n",
        "sns.barplot(y=matchwin.index,x=matchwin.values)\n",
        "plt.title('Teams won')"
      ]
    },
    {
      "cell_type": "markdown",
      "id": "b011bdbf-b57f-4cd2-99fc-ae43109b0f59",
      "metadata": {
        "id": "b011bdbf-b57f-4cd2-99fc-ae43109b0f59"
      },
      "source": [
        "2. Toss Decision Trends"
      ]
    },
    {
      "cell_type": "code",
      "execution_count": 31,
      "id": "9e73a24d-cf5f-4c6c-92cb-cde758948ab9",
      "metadata": {
        "id": "9e73a24d-cf5f-4c6c-92cb-cde758948ab9",
        "outputId": "0ff4ca9e-3473-4413-c950-70b9a3b3e51b",
        "colab": {
          "base_uri": "https://localhost:8080/",
          "height": 467
        }
      },
      "outputs": [
        {
          "output_type": "execute_result",
          "data": {
            "text/plain": [
              "<Axes: xlabel='toss_decision', ylabel='count'>"
            ]
          },
          "metadata": {},
          "execution_count": 31
        },
        {
          "output_type": "display_data",
          "data": {
            "text/plain": [
              "<Figure size 640x480 with 1 Axes>"
            ],
            "image/png": "[encoded data removed]"
          },
          "metadata": {}
        }
      ],
      "source": [
        "sns.countplot(x=df['toss_decision'])"
      ]
    },
    {
      "cell_type": "markdown",
      "id": "07c65194-6e99-4be5-9b53-caa890f0864b",
      "metadata": {
        "id": "07c65194-6e99-4be5-9b53-caa890f0864b"
      },
      "source": [
        "3. Toss Winner vs Match Winner"
      ]
    },
    {
      "cell_type": "code",
      "execution_count": 37,
      "id": "1f95b051-88f8-4133-8794-9671ed47057b",
      "metadata": {
        "id": "1f95b051-88f8-4133-8794-9671ed47057b",
        "outputId": "7df103ee-1b63-4576-fa26-18f995a23059",
        "colab": {
          "base_uri": "https://localhost:8080/"
        }
      },
      "outputs": [
        {
          "output_type": "execute_result",
          "data": {
            "text/plain": [
              "np.float64(48.65)"
            ]
          },
          "metadata": {},
          "execution_count": 37
        }
      ],
      "source": [
        "count = df[df['toss_winner']==df['match_winner']]['match_id'].count()\n",
        "percentage = (count *100)/df.shape[0]\n",
        "percentage.round(2)"
      ]
    },
    {
      "cell_type": "markdown",
      "id": "bf63d31e-dcbe-4908-9499-b74d2c9338e7",
      "metadata": {
        "id": "bf63d31e-dcbe-4908-9499-b74d2c9338e7"
      },
      "source": [
        "4. How do teams win? (Runs vs Wickets)"
      ]
    },
    {
      "cell_type": "code",
      "execution_count": 43,
      "id": "bce756ef-99a1-4251-b55f-a1bb47f77d1c",
      "metadata": {
        "id": "bce756ef-99a1-4251-b55f-a1bb47f77d1c",
        "outputId": "35f3bb40-239c-4022-aad6-1f4224f46899",
        "colab": {
          "base_uri": "https://localhost:8080/",
          "height": 467
        }
      },
      "outputs": [
        {
          "output_type": "execute_result",
          "data": {
            "text/plain": [
              "<Axes: xlabel='won_by', ylabel='count'>"
            ]
          },
          "metadata": {},
          "execution_count": 43
        },
        {
          "output_type": "display_data",
          "data": {
            "text/plain": [
              "<Figure size 640x480 with 1 Axes>"
            ],
            "image/png": "[encoded data removed]"
          },
          "metadata": {}
        }
      ],
      "source": [
        "sns.countplot(x = df['won_by'])"
      ]
    },
    {
      "cell_type": "markdown",
      "id": "4a5635a5-a7b3-4527-8580-114462ec6b20",
      "metadata": {
        "id": "4a5635a5-a7b3-4527-8580-114462ec6b20"
      },
      "source": [
        "###  Key Player Performances"
      ]
    },
    {
      "cell_type": "markdown",
      "id": "03366105-9157-4d50-873c-ee79cb3b85b3",
      "metadata": {
        "id": "03366105-9157-4d50-873c-ee79cb3b85b3"
      },
      "source": [
        "1 Most \"Player of the Match\" Awards"
      ]
    },
    {
      "cell_type": "code",
      "execution_count": 62,
      "id": "ce562d96-00c2-4fc7-91dc-f73a431029e8",
      "metadata": {
        "id": "ce562d96-00c2-4fc7-91dc-f73a431029e8",
        "outputId": "17c121bd-e576-48e3-db30-7736d10aa376",
        "colab": {
          "base_uri": "https://localhost:8080/",
          "height": 466
        }
      },
      "outputs": [
        {
          "output_type": "execute_result",
          "data": {
            "text/plain": [
              "<Axes: xlabel='count', ylabel='player_of_the_match'>"
            ]
          },
          "metadata": {},
          "execution_count": 62
        },
        {
          "output_type": "display_data",
          "data": {
            "text/plain": [
              "<Figure size 640x480 with 1 Axes>"
            ],
            "image/png": "[encoded data removed]"
          },
          "metadata": {}
        }
      ],
      "source": [
        "count = df['player_of_the_match'].value_counts().head(10)\n",
        "sns.barplot(x=count,y=count.index)"
      ]
    },
    {
      "cell_type": "markdown",
      "id": "6fb8509a-85ac-4193-9876-8a6902461f7b",
      "metadata": {
        "id": "6fb8509a-85ac-4193-9876-8a6902461f7b"
      },
      "source": [
        "2 Top Scorers"
      ]
    },
    {
      "cell_type": "code",
      "execution_count": 83,
      "id": "f6f9a798-c26c-46b6-9d98-4c4651c8232f",
      "metadata": {
        "id": "f6f9a798-c26c-46b6-9d98-4c4651c8232f",
        "outputId": "1ea7b389-8333-42bb-d40b-2054387dfadd",
        "colab": {
          "base_uri": "https://localhost:8080/",
          "height": 517
        }
      },
      "outputs": [
        {
          "output_type": "stream",
          "name": "stdout",
          "text": [
            "top_scorer\n",
            "Jos Buttler        651\n",
            "Quinton de Kock    377\n",
            "Name: highscore, dtype: int64\n"
          ]
        },
        {
          "output_type": "execute_result",
          "data": {
            "text/plain": [
              "<Axes: ylabel='top_scorer'>"
            ]
          },
          "metadata": {},
          "execution_count": 83
        },
        {
          "output_type": "display_data",
          "data": {
            "text/plain": [
              "<Figure size 640x480 with 1 Axes>"
            ],
            "image/png": "[encoded data removed]"
          },
          "metadata": {}
        }
      ],
      "source": [
        "high = df.groupby('top_scorer')['highscore'].sum()\n",
        "top=high.sort_values(ascending=False).head(2)\n",
        "print(top)\n",
        "top.plot(kind='barh')\n",
        "# sns.barplot(y=top,x=top.index)"
      ]
    },
    {
      "cell_type": "markdown",
      "id": "7e267058-ce05-4bc6-9a7f-2265ab4f4f29",
      "metadata": {
        "id": "7e267058-ce05-4bc6-9a7f-2265ab4f4f29"
      },
      "source": [
        "10 Best Bowling Figures"
      ]
    },
    {
      "cell_type": "code",
      "execution_count": 98,
      "id": "112a07ed-9800-4b85-a3dd-5ed2e30d8ebe",
      "metadata": {
        "id": "112a07ed-9800-4b85-a3dd-5ed2e30d8ebe",
        "outputId": "d1517afe-bd1d-4cd3-c2de-980d79f86d29",
        "colab": {
          "base_uri": "https://localhost:8080/",
          "height": 467
        }
      },
      "outputs": [
        {
          "output_type": "execute_result",
          "data": {
            "text/plain": [
              "<Axes: xlabel='highest_wickets', ylabel='best_bowling'>"
            ]
          },
          "metadata": {},
          "execution_count": 98
        },
        {
          "output_type": "display_data",
          "data": {
            "text/plain": [
              "<Figure size 640x480 with 1 Axes>"
            ],
            "image/png": "[encoded data removed]"
          },
          "metadata": {}
        }
      ],
      "source": [
        "df['highest_wickets'] = df['best_bowling_figure'].apply(lambda x:x.split('--')[0])\n",
        "df['highest_wickets'] =df['highest_wickets'].astype(int)\n",
        "top_bowler = df.groupby('best_bowling')['highest_wickets'].sum().sort_values(ascending=False).head(10)\n",
        "sns.barplot(x=top_bowler,y=top_bowler.index)"
      ]
    },
    {
      "cell_type": "markdown",
      "id": "f6084e57-0568-4849-8413-220cff2ff8e3",
      "metadata": {
        "id": "f6084e57-0568-4849-8413-220cff2ff8e3"
      },
      "source": [
        "###  Venue Analysis"
      ]
    },
    {
      "cell_type": "markdown",
      "id": "6d4e26f1-2479-4456-bda2-2a639c382d2e",
      "metadata": {
        "id": "6d4e26f1-2479-4456-bda2-2a639c382d2e"
      },
      "source": [
        "Most Matches Played by Venue"
      ]
    },
    {
      "cell_type": "code",
      "execution_count": 102,
      "id": "07a58ac4-d8ee-4917-a98a-33e85121c893",
      "metadata": {
        "id": "07a58ac4-d8ee-4917-a98a-33e85121c893",
        "outputId": "07430eaf-a4f9-4ad8-946a-baf68758779c",
        "colab": {
          "base_uri": "https://localhost:8080/",
          "height": 427
        }
      },
      "outputs": [
        {
          "output_type": "execute_result",
          "data": {
            "text/plain": [
              "<Axes: ylabel='venue'>"
            ]
          },
          "metadata": {},
          "execution_count": 102
        },
        {
          "output_type": "display_data",
          "data": {
            "text/plain": [
              "<Figure size 640x480 with 1 Axes>"
            ],
            "image/png": "[encoded data removed]"
          },
          "metadata": {}
        }
      ],
      "source": [
        "top = df['venue'].value_counts()\n",
        "top.plot(kind = 'barh')"
      ]
    },
    {
      "cell_type": "markdown",
      "id": "9bb61b7c-5810-4d9a-a475-aacd8d403721",
      "metadata": {
        "id": "9bb61b7c-5810-4d9a-a475-aacd8d403721"
      },
      "source": [
        "### Custom Questions & Insights\n",
        "Q1: Who won the highest margin by runs?"
      ]
    },
    {
      "cell_type": "code",
      "execution_count": 112,
      "id": "98841e09-4523-42fa-890b-d44dd734cae1",
      "metadata": {
        "id": "98841e09-4523-42fa-890b-d44dd734cae1",
        "outputId": "35bc56b5-c293-4acf-d50d-d93f2f97bbbd",
        "colab": {
          "base_uri": "https://localhost:8080/",
          "height": 81
        }
      },
      "outputs": [
        {
          "output_type": "execute_result",
          "data": {
            "text/plain": [
              "   match_winner  margin\n",
              "54      Chennai      91"
            ],
            "text/html": [
              "\n",
              "  <div id=\"df-5f407a92-f696-468a-ad7a-f1fad8374ee1\" class=\"colab-df-container\">\n",
              "    <div>\n",
              "<style scoped>\n",
              "    .dataframe tbody tr th:only-of-type {\n",
              "        vertical-align: middle;\n",
              "    }\n",
              "\n",
              "    .dataframe tbody tr th {\n",
              "        vertical-align: top;\n",
              "    }\n",
              "\n",
              "    .dataframe thead th {\n",
              "        text-align: right;\n",
              "    }\n",
              "</style>\n",
              "<table border=\"1\" class=\"dataframe\">\n",
              "  <thead>\n",
              "    <tr style=\"text-align: right;\">\n",
              "      <th></th>\n",
              "      <th>match_winner</th>\n",
              "      <th>margin</th>\n",
              "    </tr>\n",
              "  </thead>\n",
              "  <tbody>\n",
              "    <tr>\n",
              "      <th>54</th>\n",
              "      <td>Chennai</td>\n",
              "      <td>91</td>\n",
              "    </tr>\n",
              "  </tbody>\n",
              "</table>\n",
              "</div>\n",
              "    <div class=\"colab-df-buttons\">\n",
              "\n",
              "  <div class=\"colab-df-container\">\n",
              "    <button class=\"colab-df-convert\" onclick=\"convertToInteractive('df-5f407a92-f696-468a-ad7a-f1fad8374ee1')\"\n",
              "            title=\"Convert this dataframe to an interactive table.\"\n",
              "            style=\"display:none;\">\n",
              "\n",
              "  <svg xmlns=\"http://www.w3.org/2000/svg\" height=\"24px\" viewBox=\"0 -960 960 960\">\n",
              "    <path d=\"M120-120v-720h720v720H120Zm60-500h600v-160H180v160Zm220 220h160v-160H400v160Zm0 220h160v-160H400v160ZM180-400h160v-160H180v160Zm440 0h160v-160H620v160ZM180-180h160v-160H180v160Zm440 0h160v-160H620v160Z\"/>\n",
              "  </svg>\n",
              "    </button>\n",
              "\n",
              "  <style>\n",
              "    .colab-df-container {\n",
              "      display:flex;\n",
              "      gap: 12px;\n",
              "    }\n",
              "\n",
              "    .colab-df-convert {\n",
              "      background-color: #E8F0FE;\n",
              "      border: none;\n",
              "      border-radius: 50%;\n",
              "      cursor: pointer;\n",
              "      display: none;\n",
              "      fill: #1967D2;\n",
              "      height: 32px;\n",
              "      padding: 0 0 0 0;\n",
              "      width: 32px;\n",
              "    }\n",
              "\n",
              "    .colab-df-convert:hover {\n",
              "      background-color: #E2EBFA;\n",
              "      box-shadow: 0px 1px 2px rgba(60, 64, 67, 0.3), 0px 1px 3px 1px rgba(60, 64, 67, 0.15);\n",
              "      fill: #174EA6;\n",
              "    }\n",
              "\n",
              "    .colab-df-buttons div {\n",
              "      margin-bottom: 4px;\n",
              "    }\n",
              "\n",
              "    [theme=dark] .colab-df-convert {\n",
              "      background-color: #3B4455;\n",
              "      fill: #D2E3FC;\n",
              "    }\n",
              "\n",
              "    [theme=dark] .colab-df-convert:hover {\n",
              "      background-color: #434B5C;\n",
              "      box-shadow: 0px 1px 3px 1px rgba(0, 0, 0, 0.15);\n",
              "      filter: drop-shadow(0px 1px 2px rgba(0, 0, 0, 0.3));\n",
              "      fill: #FFFFFF;\n",
              "    }\n",
              "  </style>\n",
              "\n",
              "    <script>\n",
              "      const buttonEl =\n",
              "        document.querySelector('#df-5f407a92-f696-468a-ad7a-f1fad8374ee1 button.colab-df-convert');\n",
              "      buttonEl.style.display =\n",
              "        google.colab.kernel.accessAllowed ? 'block' : 'none';\n",
              "\n",
              "      async function convertToInteractive(key) {\n",
              "        const element = document.querySelector('#df-5f407a92-f696-468a-ad7a-f1fad8374ee1');\n",
              "        const dataTable =\n",
              "          await google.colab.kernel.invokeFunction('convertToInteractive',\n",
              "                                                    [key], {});\n",
              "        if (!dataTable) return;\n",
              "\n",
              "        const docLinkHtml = 'Like what you see? Visit the ' +\n",
              "          '<a target=\"_blank\" href=https://colab.research.google.com/notebooks/data_table.ipynb>data table notebook</a>'\n",
              "          + ' to learn more about interactive tables.';\n",
              "        element.innerHTML = '';\n",
              "        dataTable['output_type'] = 'display_data';\n",
              "        await google.colab.output.renderOutput(dataTable, element);\n",
              "        const docLink = document.createElement('div');\n",
              "        docLink.innerHTML = docLinkHtml;\n",
              "        element.appendChild(docLink);\n",
              "      }\n",
              "    </script>\n",
              "  </div>\n",
              "\n",
              "\n",
              "    </div>\n",
              "  </div>\n"
            ],
            "application/vnd.google.colaboratory.intrinsic+json": {
              "type": "dataframe",
              "summary": "{\n  \"name\": \"df[df['won_by'] == 'Runs']\",\n  \"rows\": 1,\n  \"fields\": [\n    {\n      \"column\": \"match_winner\",\n      \"properties\": {\n        \"dtype\": \"string\",\n        \"num_unique_values\": 1,\n        \"samples\": [\n          \"Chennai\"\n        ],\n        \"semantic_type\": \"\",\n        \"description\": \"\"\n      }\n    },\n    {\n      \"column\": \"margin\",\n      \"properties\": {\n        \"dtype\": \"number\",\n        \"std\": null,\n        \"min\": 91,\n        \"max\": 91,\n        \"num_unique_values\": 1,\n        \"samples\": [\n          91\n        ],\n        \"semantic_type\": \"\",\n        \"description\": \"\"\n      }\n    }\n  ]\n}"
            }
          },
          "metadata": {},
          "execution_count": 112
        }
      ],
      "source": [
        "df[df['won_by'] == 'Runs'].sort_values(by = 'margin',ascending=False)[['match_winner','margin']].head(1)"
      ]
    },
    {
      "cell_type": "markdown",
      "id": "071eb3ad-5e4a-4ceb-af04-ba1b4871cd3d",
      "metadata": {
        "id": "071eb3ad-5e4a-4ceb-af04-ba1b4871cd3d"
      },
      "source": [
        "Q2: Which player had the highest individual score?"
      ]
    },
    {
      "cell_type": "code",
      "execution_count": 118,
      "id": "0150db8d-fbcd-432a-8594-0dcff4d3a73d",
      "metadata": {
        "id": "0150db8d-fbcd-432a-8594-0dcff4d3a73d",
        "outputId": "74ee7b2b-40c5-4b3b-e879-464290d7c17b",
        "colab": {
          "base_uri": "https://localhost:8080/",
          "height": 81
        }
      },
      "outputs": [
        {
          "output_type": "execute_result",
          "data": {
            "text/plain": [
              "   player_of_the_match  highscore\n",
              "65     Quinton de Kock        140"
            ],
            "text/html": [
              "\n",
              "  <div id=\"df-fbcb45c7-6eb9-4d26-a346-b06d0e9ba528\" class=\"colab-df-container\">\n",
              "    <div>\n",
              "<style scoped>\n",
              "    .dataframe tbody tr th:only-of-type {\n",
              "        vertical-align: middle;\n",
              "    }\n",
              "\n",
              "    .dataframe tbody tr th {\n",
              "        vertical-align: top;\n",
              "    }\n",
              "\n",
              "    .dataframe thead th {\n",
              "        text-align: right;\n",
              "    }\n",
              "</style>\n",
              "<table border=\"1\" class=\"dataframe\">\n",
              "  <thead>\n",
              "    <tr style=\"text-align: right;\">\n",
              "      <th></th>\n",
              "      <th>player_of_the_match</th>\n",
              "      <th>highscore</th>\n",
              "    </tr>\n",
              "  </thead>\n",
              "  <tbody>\n",
              "    <tr>\n",
              "      <th>65</th>\n",
              "      <td>Quinton de Kock</td>\n",
              "      <td>140</td>\n",
              "    </tr>\n",
              "  </tbody>\n",
              "</table>\n",
              "</div>\n",
              "    <div class=\"colab-df-buttons\">\n",
              "\n",
              "  <div class=\"colab-df-container\">\n",
              "    <button class=\"colab-df-convert\" onclick=\"convertToInteractive('df-fbcb45c7-6eb9-4d26-a346-b06d0e9ba528')\"\n",
              "            title=\"Convert this dataframe to an interactive table.\"\n",
              "            style=\"display:none;\">\n",
              "\n",
              "  <svg xmlns=\"http://www.w3.org/2000/svg\" height=\"24px\" viewBox=\"0 -960 960 960\">\n",
              "    <path d=\"M120-120v-720h720v720H120Zm60-500h600v-160H180v160Zm220 220h160v-160H400v160Zm0 220h160v-160H400v160ZM180-400h160v-160H180v160Zm440 0h160v-160H620v160ZM180-180h160v-160H180v160Zm440 0h160v-160H620v160Z\"/>\n",
              "  </svg>\n",
              "    </button>\n",
              "\n",
              "  <style>\n",
              "    .colab-df-container {\n",
              "      display:flex;\n",
              "      gap: 12px;\n",
              "    }\n",
              "\n",
              "    .colab-df-convert {\n",
              "      background-color: #E8F0FE;\n",
              "      border: none;\n",
              "      border-radius: 50%;\n",
              "      cursor: pointer;\n",
              "      display: none;\n",
              "      fill: #1967D2;\n",
              "      height: 32px;\n",
              "      padding: 0 0 0 0;\n",
              "      width: 32px;\n",
              "    }\n",
              "\n",
              "    .colab-df-convert:hover {\n",
              "      background-color: #E2EBFA;\n",
              "      box-shadow: 0px 1px 2px rgba(60, 64, 67, 0.3), 0px 1px 3px 1px rgba(60, 64, 67, 0.15);\n",
              "      fill: #174EA6;\n",
              "    }\n",
              "\n",
              "    .colab-df-buttons div {\n",
              "      margin-bottom: 4px;\n",
              "    }\n",
              "\n",
              "    [theme=dark] .colab-df-convert {\n",
              "      background-color: #3B4455;\n",
              "      fill: #D2E3FC;\n",
              "    }\n",
              "\n",
              "    [theme=dark] .colab-df-convert:hover {\n",
              "      background-color: #434B5C;\n",
              "      box-shadow: 0px 1px 3px 1px rgba(0, 0, 0, 0.15);\n",
              "      filter: drop-shadow(0px 1px 2px rgba(0, 0, 0, 0.3));\n",
              "      fill: #FFFFFF;\n",
              "    }\n",
              "  </style>\n",
              "\n",
              "    <script>\n",
              "      const buttonEl =\n",
              "        document.querySelector('#df-fbcb45c7-6eb9-4d26-a346-b06d0e9ba528 button.colab-df-convert');\n",
              "      buttonEl.style.display =\n",
              "        google.colab.kernel.accessAllowed ? 'block' : 'none';\n",
              "\n",
              "      async function convertToInteractive(key) {\n",
              "        const element = document.querySelector('#df-fbcb45c7-6eb9-4d26-a346-b06d0e9ba528');\n",
              "        const dataTable =\n",
              "          await google.colab.kernel.invokeFunction('convertToInteractive',\n",
              "                                                    [key], {});\n",
              "        if (!dataTable) return;\n",
              "\n",
              "        const docLinkHtml = 'Like what you see? Visit the ' +\n",
              "          '<a target=\"_blank\" href=https://colab.research.google.com/notebooks/data_table.ipynb>data table notebook</a>'\n",
              "          + ' to learn more about interactive tables.';\n",
              "        element.innerHTML = '';\n",
              "        dataTable['output_type'] = 'display_data';\n",
              "        await google.colab.output.renderOutput(dataTable, element);\n",
              "        const docLink = document.createElement('div');\n",
              "        docLink.innerHTML = docLinkHtml;\n",
              "        element.appendChild(docLink);\n",
              "      }\n",
              "    </script>\n",
              "  </div>\n",
              "\n",
              "\n",
              "    </div>\n",
              "  </div>\n"
            ],
            "application/vnd.google.colaboratory.intrinsic+json": {
              "type": "dataframe",
              "summary": "{\n  \"name\": \"df[df['highscore'] == df['highscore']\",\n  \"rows\": 1,\n  \"fields\": [\n    {\n      \"column\": \"player_of_the_match\",\n      \"properties\": {\n        \"dtype\": \"string\",\n        \"num_unique_values\": 1,\n        \"samples\": [\n          \"Quinton de Kock\"\n        ],\n        \"semantic_type\": \"\",\n        \"description\": \"\"\n      }\n    },\n    {\n      \"column\": \"highscore\",\n      \"properties\": {\n        \"dtype\": \"number\",\n        \"std\": null,\n        \"min\": 140,\n        \"max\": 140,\n        \"num_unique_values\": 1,\n        \"samples\": [\n          140\n        ],\n        \"semantic_type\": \"\",\n        \"description\": \"\"\n      }\n    }\n  ]\n}"
            }
          },
          "metadata": {},
          "execution_count": 118
        }
      ],
      "source": [
        "df[df['highscore'] == df['highscore'].max()][['player_of_the_match','highscore']]"
      ]
    },
    {
      "cell_type": "markdown",
      "id": "8504e7bf-5d54-4e1f-8d8b-4054df1fd5fd",
      "metadata": {
        "id": "8504e7bf-5d54-4e1f-8d8b-4054df1fd5fd"
      },
      "source": [
        "Q3: Which bowler had the best bowling figures?"
      ]
    },
    {
      "cell_type": "code",
      "execution_count": 121,
      "id": "b36806a8-e52f-46e7-86b3-f1496a0f192c",
      "metadata": {
        "id": "b36806a8-e52f-46e7-86b3-f1496a0f192c",
        "outputId": "bda3d4cd-8202-4687-ec47-d4029a42f377",
        "colab": {
          "base_uri": "https://localhost:8080/",
          "height": 175
        }
      },
      "outputs": [
        {
          "output_type": "execute_result",
          "data": {
            "text/plain": [
              "         best_bowling best_bowling_figure\n",
              "29   Yuzvendra Chahal               5--40\n",
              "39        Umran Malik               5--25\n",
              "53  Wanindu Hasaranga               5--18\n",
              "55     Jasprit Bumrah               5--10"
            ],
            "text/html": [
              "\n",
              "  <div id=\"df-4015e07c-108e-4dc2-841b-161fd7555c8e\" class=\"colab-df-container\">\n",
              "    <div>\n",
              "<style scoped>\n",
              "    .dataframe tbody tr th:only-of-type {\n",
              "        vertical-align: middle;\n",
              "    }\n",
              "\n",
              "    .dataframe tbody tr th {\n",
              "        vertical-align: top;\n",
              "    }\n",
              "\n",
              "    .dataframe thead th {\n",
              "        text-align: right;\n",
              "    }\n",
              "</style>\n",
              "<table border=\"1\" class=\"dataframe\">\n",
              "  <thead>\n",
              "    <tr style=\"text-align: right;\">\n",
              "      <th></th>\n",
              "      <th>best_bowling</th>\n",
              "      <th>best_bowling_figure</th>\n",
              "    </tr>\n",
              "  </thead>\n",
              "  <tbody>\n",
              "    <tr>\n",
              "      <th>29</th>\n",
              "      <td>Yuzvendra Chahal</td>\n",
              "      <td>5--40</td>\n",
              "    </tr>\n",
              "    <tr>\n",
              "      <th>39</th>\n",
              "      <td>Umran Malik</td>\n",
              "      <td>5--25</td>\n",
              "    </tr>\n",
              "    <tr>\n",
              "      <th>53</th>\n",
              "      <td>Wanindu Hasaranga</td>\n",
              "      <td>5--18</td>\n",
              "    </tr>\n",
              "    <tr>\n",
              "      <th>55</th>\n",
              "      <td>Jasprit Bumrah</td>\n",
              "      <td>5--10</td>\n",
              "    </tr>\n",
              "  </tbody>\n",
              "</table>\n",
              "</div>\n",
              "    <div class=\"colab-df-buttons\">\n",
              "\n",
              "  <div class=\"colab-df-container\">\n",
              "    <button class=\"colab-df-convert\" onclick=\"convertToInteractive('df-4015e07c-108e-4dc2-841b-161fd7555c8e')\"\n",
              "            title=\"Convert this dataframe to an interactive table.\"\n",
              "            style=\"display:none;\">\n",
              "\n",
              "  <svg xmlns=\"http://www.w3.org/2000/svg\" height=\"24px\" viewBox=\"0 -960 960 960\">\n",
              "    <path d=\"M120-120v-720h720v720H120Zm60-500h600v-160H180v160Zm220 220h160v-160H400v160Zm0 220h160v-160H400v160ZM180-400h160v-160H180v160Zm440 0h160v-160H620v160ZM180-180h160v-160H180v160Zm440 0h160v-160H620v160Z\"/>\n",
              "  </svg>\n",
              "    </button>\n",
              "\n",
              "  <style>\n",
              "    .colab-df-container {\n",
              "      display:flex;\n",
              "      gap: 12px;\n",
              "    }\n",
              "\n",
              "    .colab-df-convert {\n",
              "      background-color: #E8F0FE;\n",
              "      border: none;\n",
              "      border-radius: 50%;\n",
              "      cursor: pointer;\n",
              "      display: none;\n",
              "      fill: #1967D2;\n",
              "      height: 32px;\n",
              "      padding: 0 0 0 0;\n",
              "      width: 32px;\n",
              "    }\n",
              "\n",
              "    .colab-df-convert:hover {\n",
              "      background-color: #E2EBFA;\n",
              "      box-shadow: 0px 1px 2px rgba(60, 64, 67, 0.3), 0px 1px 3px 1px rgba(60, 64, 67, 0.15);\n",
              "      fill: #174EA6;\n",
              "    }\n",
              "\n",
              "    .colab-df-buttons div {\n",
              "      margin-bottom: 4px;\n",
              "    }\n",
              "\n",
              "    [theme=dark] .colab-df-convert {\n",
              "      background-color: #3B4455;\n",
              "      fill: #D2E3FC;\n",
              "    }\n",
              "\n",
              "    [theme=dark] .colab-df-convert:hover {\n",
              "      background-color: #434B5C;\n",
              "      box-shadow: 0px 1px 3px 1px rgba(0, 0, 0, 0.15);\n",
              "      filter: drop-shadow(0px 1px 2px rgba(0, 0, 0, 0.3));\n",
              "      fill: #FFFFFF;\n",
              "    }\n",
              "  </style>\n",
              "\n",
              "    <script>\n",
              "      const buttonEl =\n",
              "        document.querySelector('#df-4015e07c-108e-4dc2-841b-161fd7555c8e button.colab-df-convert');\n",
              "      buttonEl.style.display =\n",
              "        google.colab.kernel.accessAllowed ? 'block' : 'none';\n",
              "\n",
              "      async function convertToInteractive(key) {\n",
              "        const element = document.querySelector('#df-4015e07c-108e-4dc2-841b-161fd7555c8e');\n",
              "        const dataTable =\n",
              "          await google.colab.kernel.invokeFunction('convertToInteractive',\n",
              "                                                    [key], {});\n",
              "        if (!dataTable) return;\n",
              "\n",
              "        const docLinkHtml = 'Like what you see? Visit the ' +\n",
              "          '<a target=\"_blank\" href=https://colab.research.google.com/notebooks/data_table.ipynb>data table notebook</a>'\n",
              "          + ' to learn more about interactive tables.';\n",
              "        element.innerHTML = '';\n",
              "        dataTable['output_type'] = 'display_data';\n",
              "        await google.colab.output.renderOutput(dataTable, element);\n",
              "        const docLink = document.createElement('div');\n",
              "        docLink.innerHTML = docLinkHtml;\n",
              "        element.appendChild(docLink);\n",
              "      }\n",
              "    </script>\n",
              "  </div>\n",
              "\n",
              "\n",
              "    <div id=\"df-7f110d59-04f2-4c53-a76a-e732ce6d2e74\">\n",
              "      <button class=\"colab-df-quickchart\" onclick=\"quickchart('df-7f110d59-04f2-4c53-a76a-e732ce6d2e74')\"\n",
              "                title=\"Suggest charts\"\n",
              "                style=\"display:none;\">\n",
              "\n",
              "<svg xmlns=\"http://www.w3.org/2000/svg\" height=\"24px\"viewBox=\"0 0 24 24\"\n",
              "     width=\"24px\">\n",
              "    <g>\n",
              "        <path d=\"M19 3H5c-1.1 0-2 .9-2 2v14c0 1.1.9 2 2 2h14c1.1 0 2-.9 2-2V5c0-1.1-.9-2-2-2zM9 17H7v-7h2v7zm4 0h-2V7h2v10zm4 0h-2v-4h2v4z\"/>\n",
              "    </g>\n",
              "</svg>\n",
              "      </button>\n",
              "\n",
              "<style>\n",
              "  .colab-df-quickchart {\n",
              "      --bg-color: #E8F0FE;\n",
              "      --fill-color: #1967D2;\n",
              "      --hover-bg-color: #E2EBFA;\n",
              "      --hover-fill-color: #174EA6;\n",
              "      --disabled-fill-color: #AAA;\n",
              "      --disabled-bg-color: #DDD;\n",
              "  }\n",
              "\n",
              "  [theme=dark] .colab-df-quickchart {\n",
              "      --bg-color: #3B4455;\n",
              "      --fill-color: #D2E3FC;\n",
              "      --hover-bg-color: #434B5C;\n",
              "      --hover-fill-color: #FFFFFF;\n",
              "      --disabled-bg-color: #3B4455;\n",
              "      --disabled-fill-color: #666;\n",
              "  }\n",
              "\n",
              "  .colab-df-quickchart {\n",
              "    background-color: var(--bg-color);\n",
              "    border: none;\n",
              "    border-radius: 50%;\n",
              "    cursor: pointer;\n",
              "    display: none;\n",
              "    fill: var(--fill-color);\n",
              "    height: 32px;\n",
              "    padding: 0;\n",
              "    width: 32px;\n",
              "  }\n",
              "\n",
              "  .colab-df-quickchart:hover {\n",
              "    background-color: var(--hover-bg-color);\n",
              "    box-shadow: 0 1px 2px rgba(60, 64, 67, 0.3), 0 1px 3px 1px rgba(60, 64, 67, 0.15);\n",
              "    fill: var(--button-hover-fill-color);\n",
              "  }\n",
              "\n",
              "  .colab-df-quickchart-complete:disabled,\n",
              "  .colab-df-quickchart-complete:disabled:hover {\n",
              "    background-color: var(--disabled-bg-color);\n",
              "    fill: var(--disabled-fill-color);\n",
              "    box-shadow: none;\n",
              "  }\n",
              "\n",
              "  .colab-df-spinner {\n",
              "    border: 2px solid var(--fill-color);\n",
              "    border-color: transparent;\n",
              "    border-bottom-color: var(--fill-color);\n",
              "    animation:\n",
              "      spin 1s steps(1) infinite;\n",
              "  }\n",
              "\n",
              "  @keyframes spin {\n",
              "    0% {\n",
              "      border-color: transparent;\n",
              "      border-bottom-color: var(--fill-color);\n",
              "      border-left-color: var(--fill-color);\n",
              "    }\n",
              "    20% {\n",
              "      border-color: transparent;\n",
              "      border-left-color: var(--fill-color);\n",
              "      border-top-color: var(--fill-color);\n",
              "    }\n",
              "    30% {\n",
              "      border-color: transparent;\n",
              "      border-left-color: var(--fill-color);\n",
              "      border-top-color: var(--fill-color);\n",
              "      border-right-color: var(--fill-color);\n",
              "    }\n",
              "    40% {\n",
              "      border-color: transparent;\n",
              "      border-right-color: var(--fill-color);\n",
              "      border-top-color: var(--fill-color);\n",
              "    }\n",
              "    60% {\n",
              "      border-color: transparent;\n",
              "      border-right-color: var(--fill-color);\n",
              "    }\n",
              "    80% {\n",
              "      border-color: transparent;\n",
              "      border-right-color: var(--fill-color);\n",
              "      border-bottom-color: var(--fill-color);\n",
              "    }\n",
              "    90% {\n",
              "      border-color: transparent;\n",
              "      border-bottom-color: var(--fill-color);\n",
              "    }\n",
              "  }\n",
              "</style>\n",
              "\n",
              "      <script>\n",
              "        async function quickchart(key) {\n",
              "          const quickchartButtonEl =\n",
              "            document.querySelector('#' + key + ' button');\n",
              "          quickchartButtonEl.disabled = true;  // To prevent multiple clicks.\n",
              "          quickchartButtonEl.classList.add('colab-df-spinner');\n",
              "          try {\n",
              "            const charts = await google.colab.kernel.invokeFunction(\n",
              "                'suggestCharts', [key], {});\n",
              "          } catch (error) {\n",
              "            console.error('Error during call to suggestCharts:', error);\n",
              "          }\n",
              "          quickchartButtonEl.classList.remove('colab-df-spinner');\n",
              "          quickchartButtonEl.classList.add('colab-df-quickchart-complete');\n",
              "        }\n",
              "        (() => {\n",
              "          let quickchartButtonEl =\n",
              "            document.querySelector('#df-7f110d59-04f2-4c53-a76a-e732ce6d2e74 button');\n",
              "          quickchartButtonEl.style.display =\n",
              "            google.colab.kernel.accessAllowed ? 'block' : 'none';\n",
              "        })();\n",
              "      </script>\n",
              "    </div>\n",
              "\n",
              "    </div>\n",
              "  </div>\n"
            ],
            "application/vnd.google.colaboratory.intrinsic+json": {
              "type": "dataframe",
              "summary": "{\n  \"name\": \"df[df['highest_wickets'] == df['highest_wickets']\",\n  \"rows\": 4,\n  \"fields\": [\n    {\n      \"column\": \"best_bowling\",\n      \"properties\": {\n        \"dtype\": \"string\",\n        \"num_unique_values\": 4,\n        \"samples\": [\n          \"Umran Malik\",\n          \"Jasprit Bumrah\",\n          \"Yuzvendra Chahal\"\n        ],\n        \"semantic_type\": \"\",\n        \"description\": \"\"\n      }\n    },\n    {\n      \"column\": \"best_bowling_figure\",\n      \"properties\": {\n        \"dtype\": \"string\",\n        \"num_unique_values\": 4,\n        \"samples\": [\n          \"5--25\",\n          \"5--10\",\n          \"5--40\"\n        ],\n        \"semantic_type\": \"\",\n        \"description\": \"\"\n      }\n    }\n  ]\n}"
            }
          },
          "metadata": {},
          "execution_count": 121
        }
      ],
      "source": [
        "df[df['highest_wickets'] == df['highest_wickets'].max()][['best_bowling','best_bowling_figure']]"
      ]
    },
    {
      "cell_type": "markdown",
      "id": "680e5385-687f-43e9-9f2f-4384ddc08925",
      "metadata": {
        "id": "680e5385-687f-43e9-9f2f-4384ddc08925"
      },
      "source": [
        "# Good Work"
      ]
    }
  ],
  "metadata": {
    "kernelspec": {
      "display_name": "Python [conda env:base] *",
      "language": "python",
      "name": "conda-base-py"
    },
    "language_info": {
      "codemirror_mode": {
        "name": "ipython",
        "version": 3
      },
      "file_extension": ".py",
      "mimetype": "text/x-python",
      "name": "python",
      "nbconvert_exporter": "python",
      "pygments_lexer": "ipython3",
      "version": "3.12.7"
    },
    "colab": {
      "provenance": [],
      "include_colab_link": true
    }
  },
  "nbformat": 4,
  "nbformat_minor": 5
}